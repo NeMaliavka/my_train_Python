{
 "cells": [
  {
   "cell_type": "markdown",
   "metadata": {},
   "source": [
    "# Декораторы"
   ]
  },
  {
   "cell_type": "markdown",
   "metadata": {},
   "source": [
    "#### Функция - тоже объект "
   ]
  },
  {
   "cell_type": "code",
   "execution_count": 1,
   "metadata": {},
   "outputs": [
    {
     "name": "stdout",
     "output_type": "stream",
     "text": [
      "<function area at 0x000001E8FB871828>\n",
      "<class 'function'>\n"
     ]
    }
   ],
   "source": [
    "def area(height, width):\n",
    "    return height*width\n",
    "\n",
    "def hypot(a,b):\n",
    "    return (a**2+b**2)**0.5\n",
    "\n",
    "print(area)\n",
    "print(type(area))"
   ]
  },
  {
   "cell_type": "code",
   "execution_count": 2,
   "metadata": {},
   "outputs": [
    {
     "data": {
      "text/plain": [
       "2"
      ]
     },
     "execution_count": 2,
     "metadata": {},
     "output_type": "execute_result"
    }
   ],
   "source": [
    "area2 = area\n",
    "area2(1,2)"
   ]
  },
  {
   "cell_type": "markdown",
   "metadata": {},
   "source": [
    "#### Можем перeдавать функцию, как аргумент"
   ]
  },
  {
   "cell_type": "code",
   "execution_count": 3,
   "metadata": {},
   "outputs": [
    {
     "name": "stdout",
     "output_type": "stream",
     "text": [
      "Hello!\n",
      "Hello!\n",
      "Hello!\n",
      "Hello!\n",
      "Hello!\n"
     ]
    }
   ],
   "source": [
    "def call_two_times(func):\n",
    "    func()\n",
    "    func()\n",
    "\n",
    "def call_n_times(func, n = 3):\n",
    "    for _ in range(n):\n",
    "        func()\n",
    "\n",
    "def greet():\n",
    "    print(\"Hello!\")\n",
    "\n",
    "call_n_times(greet,n=5)"
   ]
  },
  {
   "cell_type": "markdown",
   "metadata": {},
   "source": [
    "#### Можем создавать функции внутри других функций"
   ]
  },
  {
   "cell_type": "code",
   "execution_count": 4,
   "metadata": {},
   "outputs": [
    {
     "name": "stdout",
     "output_type": "stream",
     "text": [
      "<function make_adder.<locals>.adder at 0x000001E8FB871AF8>\n",
      "60\n"
     ]
    }
   ],
   "source": [
    "def make_adder(n):\n",
    "    def adder(a):\n",
    "        return a+n\n",
    "    return adder\n",
    "\n",
    "adder_10 = make_adder(10)\n",
    "\n",
    "print(adder_10)\n",
    "\n",
    "print(adder_10(50))"
   ]
  },
  {
   "cell_type": "markdown",
   "metadata": {},
   "source": [
    "#### Можем изменять функцию"
   ]
  },
  {
   "cell_type": "code",
   "execution_count": 5,
   "metadata": {},
   "outputs": [
    {
     "name": "stdout",
     "output_type": "stream",
     "text": [
      "1024\n",
      "Вывод функции: 1024\n"
     ]
    }
   ],
   "source": [
    "def to_str(func):\n",
    "    def new_func(arg):\n",
    "        return f\"Вывод функции: {func(arg)}\"\n",
    "    \n",
    "    return new_func\n",
    "\n",
    "def square(n):\n",
    "    return n**2\n",
    "\n",
    "print(square(32))\n",
    "\n",
    "square = to_str(square)\n",
    "\n",
    "print(square(32))"
   ]
  },
  {
   "cell_type": "markdown",
   "metadata": {},
   "source": [
    "#### Декоратор - синтаксический сахар"
   ]
  },
  {
   "cell_type": "code",
   "execution_count": 6,
   "metadata": {},
   "outputs": [
    {
     "name": "stdout",
     "output_type": "stream",
     "text": [
      "Вывод функции: 1024\n"
     ]
    }
   ],
   "source": [
    "@to_str\n",
    "def square(n):\n",
    "    return n**2\n",
    "\n",
    "print(square(32))"
   ]
  },
  {
   "cell_type": "markdown",
   "metadata": {},
   "source": [
    "## 1. Редактирование аргументов и результатов"
   ]
  },
  {
   "cell_type": "markdown",
   "metadata": {},
   "source": [
    "#### Округляем результат"
   ]
  },
  {
   "cell_type": "code",
   "execution_count": 8,
   "metadata": {},
   "outputs": [
    {
     "name": "stdout",
     "output_type": "stream",
     "text": [
      "2.12248\n",
      "10.44030650891055\n"
     ]
    }
   ],
   "source": [
    "def area(height, width):\n",
    "    return height*width\n",
    "\n",
    "def hypot(a,b):\n",
    "    return (a**2+b**2)**0.5\n",
    "\n",
    "print(area(1.234,1.72))\n",
    "print(hypot(10,3))"
   ]
  },
  {
   "cell_type": "code",
   "execution_count": 9,
   "metadata": {},
   "outputs": [
    {
     "name": "stdout",
     "output_type": "stream",
     "text": [
      "2.1225\n",
      "10.4403\n"
     ]
    }
   ],
   "source": [
    "def area(height, width):\n",
    "    return round(height*width, 4)\n",
    "\n",
    "def hypot(a,b):\n",
    "    return round((a**2+b**2)**0.5, 4)\n",
    "\n",
    "print(area(1.234,1.72))\n",
    "print(hypot(10,3))"
   ]
  },
  {
   "cell_type": "code",
   "execution_count": 10,
   "metadata": {},
   "outputs": [
    {
     "name": "stdout",
     "output_type": "stream",
     "text": [
      "2.12248\n",
      "10.44031\n"
     ]
    }
   ],
   "source": [
    "def rounder(func):\n",
    "    def wrap(arg1, arg2):\n",
    "        result = func(arg1, arg2)\n",
    "        return round(result, 5)\n",
    "    \n",
    "    return wrap\n",
    "\n",
    "@rounder\n",
    "def area(height, width):\n",
    "    return height*width\n",
    "\n",
    "@rounder\n",
    "def hypot(a,b):\n",
    "    return (a**2+b**2)**0.5\n",
    "\n",
    "print(area(1.234,1.72))\n",
    "print(hypot(10,3))"
   ]
  },
  {
   "cell_type": "markdown",
   "metadata": {},
   "source": [
    "#### Проверка аргументов"
   ]
  },
  {
   "cell_type": "code",
   "execution_count": 11,
   "metadata": {},
   "outputs": [
    {
     "name": "stdout",
     "output_type": "stream",
     "text": [
      "0.3333333333333333\n"
     ]
    }
   ],
   "source": [
    "def inverse(a):\n",
    "    return 1/a\n",
    "\n",
    "print(inverse(3))"
   ]
  },
  {
   "cell_type": "code",
   "execution_count": 12,
   "metadata": {},
   "outputs": [
    {
     "ename": "ZeroDivisionError",
     "evalue": "division by zero",
     "output_type": "error",
     "traceback": [
      "\u001b[1;31m---------------------------------------------------------------------------\u001b[0m",
      "\u001b[1;31mZeroDivisionError\u001b[0m                         Traceback (most recent call last)",
      "\u001b[1;32m<ipython-input-12-5934df4275f8>\u001b[0m in \u001b[0;36m<module>\u001b[1;34m\u001b[0m\n\u001b[1;32m----> 1\u001b[1;33m \u001b[0mprint\u001b[0m\u001b[1;33m(\u001b[0m\u001b[0minverse\u001b[0m\u001b[1;33m(\u001b[0m\u001b[1;36m0\u001b[0m\u001b[1;33m)\u001b[0m\u001b[1;33m)\u001b[0m\u001b[1;33m\u001b[0m\u001b[1;33m\u001b[0m\u001b[0m\n\u001b[0m",
      "\u001b[1;32m<ipython-input-11-7b317a3d0518>\u001b[0m in \u001b[0;36minverse\u001b[1;34m(a)\u001b[0m\n\u001b[0;32m      1\u001b[0m \u001b[1;32mdef\u001b[0m \u001b[0minverse\u001b[0m\u001b[1;33m(\u001b[0m\u001b[0ma\u001b[0m\u001b[1;33m)\u001b[0m\u001b[1;33m:\u001b[0m\u001b[1;33m\u001b[0m\u001b[1;33m\u001b[0m\u001b[0m\n\u001b[1;32m----> 2\u001b[1;33m     \u001b[1;32mreturn\u001b[0m \u001b[1;36m1\u001b[0m\u001b[1;33m/\u001b[0m\u001b[0ma\u001b[0m\u001b[1;33m\u001b[0m\u001b[1;33m\u001b[0m\u001b[0m\n\u001b[0m\u001b[0;32m      3\u001b[0m \u001b[1;33m\u001b[0m\u001b[0m\n\u001b[0;32m      4\u001b[0m \u001b[0mprint\u001b[0m\u001b[1;33m(\u001b[0m\u001b[0minverse\u001b[0m\u001b[1;33m(\u001b[0m\u001b[1;36m3\u001b[0m\u001b[1;33m)\u001b[0m\u001b[1;33m)\u001b[0m\u001b[1;33m\u001b[0m\u001b[1;33m\u001b[0m\u001b[0m\n",
      "\u001b[1;31mZeroDivisionError\u001b[0m: division by zero"
     ]
    }
   ],
   "source": [
    "print(inverse(0))"
   ]
  },
  {
   "cell_type": "code",
   "execution_count": 13,
   "metadata": {},
   "outputs": [
    {
     "name": "stdout",
     "output_type": "stream",
     "text": [
      "0.3333333333333333\n",
      "На ноль делить нельзя!!!\n"
     ]
    }
   ],
   "source": [
    "def zero_check(func):\n",
    "    \n",
    "    def wrapper(arg):\n",
    "        if arg == 0:\n",
    "            return \"На ноль делить нельзя!!!\"\n",
    "        else:\n",
    "            return func(arg)\n",
    "    return wrapper\n",
    "\n",
    "@zero_check\n",
    "def inverse(a):\n",
    "    return 1/a\n",
    "\n",
    "print(inverse(3))\n",
    "print(inverse(0))"
   ]
  },
  {
   "cell_type": "markdown",
   "metadata": {},
   "source": [
    "#### Комбинируем два декоратора"
   ]
  },
  {
   "cell_type": "code",
   "execution_count": 14,
   "metadata": {},
   "outputs": [
    {
     "name": "stdout",
     "output_type": "stream",
     "text": [
      "0.333\n",
      "На ноль делить нельзя!!!\n"
     ]
    }
   ],
   "source": [
    "def rounder(func):\n",
    "    def wrap(arg1):\n",
    "        result = func(arg1)\n",
    "        return round(result, 3)\n",
    "    return wrap\n",
    "\n",
    "def zero_check(func):\n",
    "    def wrapper(arg):\n",
    "        if arg == 0:\n",
    "            return \"На ноль делить нельзя!!!\"\n",
    "        else:\n",
    "            return func(arg)\n",
    "    return wrapper\n",
    "\n",
    "@zero_check\n",
    "@rounder\n",
    "def inverse(a):\n",
    "    return 1/a\n",
    "\n",
    "print(inverse(3))\n",
    "print(inverse(0))"
   ]
  },
  {
   "cell_type": "markdown",
   "metadata": {},
   "source": [
    "## 2. Декоратор для функций от неопределенного количества аргументов "
   ]
  },
  {
   "cell_type": "code",
   "execution_count": 15,
   "metadata": {},
   "outputs": [
    {
     "name": "stdout",
     "output_type": "stream",
     "text": [
      "4.762\n",
      "5.385\n"
     ]
    }
   ],
   "source": [
    "def rounder(func):\n",
    "    def wrap(*args, **kwargs):\n",
    "        result = func(*args, **kwargs)\n",
    "        return round(result,3)\n",
    "    return wrap\n",
    "\n",
    "@rounder\n",
    "def inverse(a):\n",
    "    return 1/a\n",
    "\n",
    "@rounder\n",
    "def hypot(a,b):\n",
    "    return (a**2+b**2)**0.5\n",
    "\n",
    "print(inverse(0.21))\n",
    "print(hypot(2,5))"
   ]
  },
  {
   "cell_type": "markdown",
   "metadata": {},
   "source": [
    "## 3. Параметризованный декоратор"
   ]
  },
  {
   "cell_type": "code",
   "execution_count": 16,
   "metadata": {},
   "outputs": [
    {
     "name": "stdout",
     "output_type": "stream",
     "text": [
      "5.38516\n"
     ]
    }
   ],
   "source": [
    "def make_rounder(num_round = 3):\n",
    "    def rounder(func):\n",
    "        def wrap(*args, **kwargs):\n",
    "            result = func(*args, **kwargs)\n",
    "            return round(result, num_round)\n",
    "        return wrap\n",
    "    return rounder\n",
    "\n",
    "\n",
    "@make_rounder(5)\n",
    "def hypot(a,b):\n",
    "    return (a**2+b**2)**0.5\n",
    "\n",
    "print(hypot(2,5))"
   ]
  },
  {
   "cell_type": "markdown",
   "metadata": {},
   "source": [
    "## 4. Измеряем время работы функции"
   ]
  },
  {
   "cell_type": "code",
   "execution_count": 17,
   "metadata": {},
   "outputs": [],
   "source": [
    "import time\n",
    "\n",
    "def timer(func):\n",
    "    def wrap(*args, **kwargs):\n",
    "        t0 = time.time()\n",
    "        result =  func(*args, **kwargs)\n",
    "        t1 = time.time()\n",
    "        print(f\"Функция выполнялась {round(t1-t0,5)} секунд\")\n",
    "        return result\n",
    "    \n",
    "\n",
    "    return wrap"
   ]
  },
  {
   "cell_type": "code",
   "execution_count": 19,
   "metadata": {},
   "outputs": [
    {
     "name": "stdout",
     "output_type": "stream",
     "text": [
      "Функция выполнялась 0.79656 секунд\n"
     ]
    },
    {
     "data": {
      "text/plain": [
       "1346269"
      ]
     },
     "execution_count": 19,
     "metadata": {},
     "output_type": "execute_result"
    }
   ],
   "source": [
    "def fib(n):\n",
    "    if n <= 2:\n",
    "        return 1\n",
    "    else:\n",
    "        return fib(n-2)+fib(n-1)\n",
    "\n",
    "@timer\n",
    "def get_fib(n):\n",
    "    return fib(n)\n",
    "\n",
    "get_fib(31)"
   ]
  },
  {
   "cell_type": "markdown",
   "metadata": {},
   "source": [
    "## 5. Измеряем количество вызовов функции"
   ]
  },
  {
   "cell_type": "code",
   "execution_count": 21,
   "metadata": {},
   "outputs": [
    {
     "name": "stdout",
     "output_type": "stream",
     "text": [
      "13\n",
      "25\n"
     ]
    }
   ],
   "source": [
    "def counter(func):\n",
    "    def wrap(*args, **kwargs):\n",
    "        wrap.num_calls += 1\n",
    "        result =  func(*args, **kwargs)\n",
    "        return result\n",
    "    wrap.num_calls = 0\n",
    "    return wrap\n",
    "\n",
    "@counter\n",
    "def fib(n):\n",
    "    if n <= 2:\n",
    "        return 1\n",
    "    else:\n",
    "        return fib(n-2)+fib(n-1)\n",
    "\n",
    "print(fib(7))\n",
    "print(fib.num_calls)"
   ]
  },
  {
   "cell_type": "code",
   "execution_count": 22,
   "metadata": {},
   "outputs": [
    {
     "name": "stdout",
     "output_type": "stream",
     "text": [
      "Hello\n",
      "Hello\n",
      "Hello\n",
      "Hello\n",
      "Hello\n",
      "Hello\n",
      "Hello\n",
      "Hello\n",
      "Hello\n",
      "Hello\n"
     ]
    }
   ],
   "source": [
    "@counter\n",
    "def greet():\n",
    "    print(\"Hello\")\n",
    "\n",
    "for i in range(10):\n",
    "    greet()"
   ]
  },
  {
   "cell_type": "code",
   "execution_count": 23,
   "metadata": {},
   "outputs": [
    {
     "data": {
      "text/plain": [
       "10"
      ]
     },
     "execution_count": 23,
     "metadata": {},
     "output_type": "execute_result"
    }
   ],
   "source": [
    "greet.num_calls"
   ]
  },
  {
   "cell_type": "markdown",
   "metadata": {},
   "source": [
    "## 6. Логгируем функцию"
   ]
  },
  {
   "cell_type": "code",
   "execution_count": 24,
   "metadata": {},
   "outputs": [
    {
     "data": {
      "text/plain": [
       "55"
      ]
     },
     "execution_count": 24,
     "metadata": {},
     "output_type": "execute_result"
    }
   ],
   "source": [
    "def logger(func):\n",
    "    def wrap(*args, **kwargs):\n",
    "        result = func(*args, **kwargs)\n",
    "        log = f\"args: {', '.join(map(str,args))} , result: {result}\"\n",
    "        wrap.logs.append(log)\n",
    "        return result\n",
    "    wrap.logs = []\n",
    "    return wrap\n",
    "\n",
    "@logger\n",
    "def fib(n):\n",
    "    if n <= 2:\n",
    "        return 1\n",
    "    else:\n",
    "        return fib(n-2)+fib(n-1)\n",
    "fib(10)"
   ]
  },
  {
   "cell_type": "code",
   "execution_count": 25,
   "metadata": {},
   "outputs": [
    {
     "name": "stdout",
     "output_type": "stream",
     "text": [
      "109\n"
     ]
    }
   ],
   "source": [
    "print(len(fib.logs))"
   ]
  },
  {
   "cell_type": "markdown",
   "metadata": {},
   "source": [
    "## 7. Кэшируем функцию"
   ]
  },
  {
   "cell_type": "code",
   "execution_count": 32,
   "metadata": {},
   "outputs": [
    {
     "data": {
      "text/plain": [
       "354224848179261915075"
      ]
     },
     "execution_count": 32,
     "metadata": {},
     "output_type": "execute_result"
    }
   ],
   "source": [
    "def casher(func):\n",
    "    def wrap(*args):\n",
    "        if args in wrap.cashed:\n",
    "            return wrap.cashed[args]\n",
    "        else:\n",
    "            result = func(*args)\n",
    "            wrap.cashed[args] = result\n",
    "            return result\n",
    "    wrap.cashed = {}\n",
    "    return wrap\n",
    "\n",
    "@counter\n",
    "@casher\n",
    "def fib(n):\n",
    "    if n <= 2:\n",
    "        return 1\n",
    "    else:\n",
    "        return fib(n-2)+fib(n-1)\n",
    "\n",
    "fib(100)"
   ]
  },
  {
   "cell_type": "code",
   "execution_count": 33,
   "metadata": {},
   "outputs": [
    {
     "name": "stdout",
     "output_type": "stream",
     "text": [
      "197\n"
     ]
    }
   ],
   "source": [
    "print(fib.num_calls)"
   ]
  },
  {
   "cell_type": "code",
   "execution_count": 34,
   "metadata": {},
   "outputs": [
    {
     "data": {
      "text/plain": [
       "55"
      ]
     },
     "execution_count": 34,
     "metadata": {},
     "output_type": "execute_result"
    }
   ],
   "source": [
    "def fib_2(n):\n",
    "    a, b = 1, 1\n",
    "    counter = 2\n",
    "    while counter < n:\n",
    "        a, b =b, a+b\n",
    "        counter+=1\n",
    "    return b\n",
    "\n",
    "fib_2(10)"
   ]
  },
  {
   "cell_type": "markdown",
   "metadata": {},
   "source": [
    "# Итераторы"
   ]
  },
  {
   "cell_type": "markdown",
   "metadata": {},
   "source": [
    "### `iter(*итерируемый объект*)`"
   ]
  },
  {
   "cell_type": "code",
   "execution_count": 35,
   "metadata": {},
   "outputs": [
    {
     "name": "stdout",
     "output_type": "stream",
     "text": [
      "1\n",
      "2\n",
      "3\n",
      "4\n",
      "5\n"
     ]
    }
   ],
   "source": [
    "a = [1,2,3, 4, 5]\n",
    "\n",
    "iterator = iter(a)\n",
    "\n",
    "for i in iterator:\n",
    "    print(i)"
   ]
  },
  {
   "cell_type": "markdown",
   "metadata": {},
   "source": [
    "### `next(*итератор*)`"
   ]
  },
  {
   "cell_type": "code",
   "execution_count": 36,
   "metadata": {},
   "outputs": [
    {
     "name": "stdout",
     "output_type": "stream",
     "text": [
      "1\n",
      "2\n",
      "3\n",
      "10\n"
     ]
    }
   ],
   "source": [
    "a = [1,2,3,10]\n",
    "\n",
    "iterator = iter(a)\n",
    "\n",
    "print(next(iterator))\n",
    "print(next(iterator))\n",
    "print(next(iterator))\n",
    "print(next(iterator))"
   ]
  },
  {
   "cell_type": "code",
   "execution_count": 37,
   "metadata": {},
   "outputs": [
    {
     "ename": "StopIteration",
     "evalue": "",
     "output_type": "error",
     "traceback": [
      "\u001b[1;31m---------------------------------------------------------------------------\u001b[0m",
      "\u001b[1;31mStopIteration\u001b[0m                             Traceback (most recent call last)",
      "\u001b[1;32m<ipython-input-37-d4aa693aba62>\u001b[0m in \u001b[0;36m<module>\u001b[1;34m\u001b[0m\n\u001b[1;32m----> 1\u001b[1;33m \u001b[0mprint\u001b[0m\u001b[1;33m(\u001b[0m\u001b[0mnext\u001b[0m\u001b[1;33m(\u001b[0m\u001b[0miterator\u001b[0m\u001b[1;33m)\u001b[0m\u001b[1;33m)\u001b[0m\u001b[1;33m\u001b[0m\u001b[1;33m\u001b[0m\u001b[0m\n\u001b[0m",
      "\u001b[1;31mStopIteration\u001b[0m: "
     ]
    }
   ],
   "source": [
    "print(next(iterator))"
   ]
  },
  {
   "cell_type": "code",
   "execution_count": 38,
   "metadata": {},
   "outputs": [
    {
     "name": "stdout",
     "output_type": "stream",
     "text": [
      "1\n",
      "2\n",
      "3\n",
      "10\n",
      "Конец!\n"
     ]
    }
   ],
   "source": [
    "a = [1,2,3,10]\n",
    "\n",
    "iterator = iter(a)\n",
    "\n",
    "print(next(iterator))\n",
    "print(next(iterator))\n",
    "print(next(iterator))\n",
    "print(next(iterator))\n",
    "print(next(iterator,\"Конец!\"))"
   ]
  },
  {
   "cell_type": "code",
   "execution_count": 39,
   "metadata": {},
   "outputs": [
    {
     "name": "stdout",
     "output_type": "stream",
     "text": [
      "generator код до 1\n",
      "1\n",
      "generator код до 2\n",
      "2\n",
      "generator код до 3\n",
      "3\n",
      "generator код после 3\n",
      "STOP\n"
     ]
    }
   ],
   "source": [
    "def generator():\n",
    "    print(\"generator код до 1\")\n",
    "    yield 1\n",
    "    print(\"generator код до 2\")\n",
    "    yield 2\n",
    "    print(\"generator код до 3\")\n",
    "    yield 3\n",
    "    print(\"generator код после 3\")\n",
    "\n",
    "generated = generator()\n",
    "\n",
    "print(next(generated))\n",
    "print(next(generated))\n",
    "print(next(generated))\n",
    "print(next(generated, \"STOP\"))"
   ]
  },
  {
   "cell_type": "code",
   "execution_count": 40,
   "metadata": {},
   "outputs": [
    {
     "name": "stdout",
     "output_type": "stream",
     "text": [
      "1\n",
      "1\n",
      "2\n",
      "3\n",
      "5\n",
      "8\n",
      "13\n",
      "21\n",
      "34\n",
      "55\n",
      "89\n",
      "144\n",
      "233\n",
      "377\n",
      "610\n",
      "987\n",
      "1597\n",
      "2584\n"
     ]
    }
   ],
   "source": [
    "def get_fib(n):\n",
    "    a, b = 1, 1\n",
    "    yield a\n",
    "    yield b\n",
    "    while True:\n",
    "        a, b = b, a+b\n",
    "        if b > n:\n",
    "            break\n",
    "        yield b\n",
    "\n",
    "for i in get_fib(4000):\n",
    "    print(i)"
   ]
  },
  {
   "cell_type": "code",
   "execution_count": 41,
   "metadata": {},
   "outputs": [
    {
     "name": "stdout",
     "output_type": "stream",
     "text": [
      "Создали генератор\n",
      "Инициализация генератора\n"
     ]
    },
    {
     "data": {
      "text/plain": [
       "0"
      ]
     },
     "execution_count": 41,
     "metadata": {},
     "output_type": "execute_result"
    }
   ],
   "source": [
    "def get_sum():\n",
    "    print(\"Инициализация генератора\")\n",
    "    s = 0\n",
    "    while True:\n",
    "        s += yield s\n",
    "\n",
    "g = (get_sum())\n",
    "print(\"Создали генератор\")\n",
    "next(g)"
   ]
  },
  {
   "cell_type": "code",
   "execution_count": 42,
   "metadata": {},
   "outputs": [
    {
     "name": "stdout",
     "output_type": "stream",
     "text": [
      "1\n",
      "4\n",
      "14\n",
      "12\n"
     ]
    }
   ],
   "source": [
    "print(g.send(1))\n",
    "print(g.send(3))\n",
    "print(g.send(10))\n",
    "print(g.send(-2))"
   ]
  }
 ],
 "metadata": {
  "kernelspec": {
   "display_name": "Python 3",
   "language": "python",
   "name": "python3"
  },
  "language_info": {
   "codemirror_mode": {
    "name": "ipython",
    "version": 3
   },
   "file_extension": ".py",
   "mimetype": "text/x-python",
   "name": "python",
   "nbconvert_exporter": "python",
   "pygments_lexer": "ipython3",
   "version": "3.7.6"
  }
 },
 "nbformat": 4,
 "nbformat_minor": 4
}
